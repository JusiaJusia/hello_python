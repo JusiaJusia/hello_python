{
  "nbformat": 4,
  "nbformat_minor": 0,
  "metadata": {
    "kernelspec": {
      "display_name": "Python 3",
      "language": "python",
      "name": "python3"
    },
    "language_info": {
      "codemirror_mode": {
        "name": "ipython",
        "version": 3
      },
      "file_extension": ".py",
      "mimetype": "text/x-python",
      "name": "python",
      "nbconvert_exporter": "python",
      "pygments_lexer": "ipython3",
      "version": "3.7.3"
    },
    "colab": {
      "name": "WQU DS week 1 - notes ",
      "provenance": []
    }
  },
  "cells": [
    {
      "cell_type": "code",
      "metadata": {
        "id": "tNugA7ehg8L0",
        "colab_type": "code",
        "colab": {}
      },
      "source": [
        "\n",
        "\n",
        "def cube_even_numbers(numbers):\n",
        "    results = []\n",
        "    \n",
        "    for num in numbers:\n",
        "        if num % 2 == 0:\n",
        "            results.append(num ** 3)\n",
        "    \n",
        "    return results\n",
        "\n",
        "def cube_even_numbers_v2(numbers):\n",
        "    return [num ** 3 for num in numbers if num % 2 == 0]\n",
        "    "
      ],
      "execution_count": null,
      "outputs": []
    },
    {
      "cell_type": "code",
      "metadata": {
        "id": "H-olO6athZ_4",
        "colab_type": "code",
        "colab": {}
      },
      "source": [
        "#nested forl loop \n",
        "\n",
        "my_list = []\n",
        "\n",
        "for i in range(10): # iterate over values 0 to 9\n",
        "    for j in range(5): # iterate over values 0 to 4\n",
        "        my_list.append(i + j)\n",
        "        \n",
        "print(my_list)"
      ],
      "execution_count": null,
      "outputs": []
    },
    {
      "cell_type": "code",
      "metadata": {
        "id": "6l8H9NlJg0Gk",
        "colab_type": "code",
        "colab": {},
        "outputId": "27c09707-bfe9-4796-9bf0-1d48c11eac96"
      },
      "source": [
        "#function with multiplyier \n",
        "\n",
        "def add(a, b, multiplier=1):\n",
        "    result = multiplier * (a + b)\n",
        "    \n",
        "    if result < 0:\n",
        "        return 0\n",
        "    \n",
        "    return result\n",
        "\n",
        "add(1, 2)"
      ],
      "execution_count": null,
      "outputs": [
        {
          "output_type": "execute_result",
          "data": {
            "text/plain": [
              "3"
            ]
          },
          "metadata": {
            "tags": []
          },
          "execution_count": 5
        }
      ]
    },
    {
      "cell_type": "code",
      "metadata": {
        "id": "vpps7Pp6g0Gs",
        "colab_type": "code",
        "colab": {},
        "outputId": "a2f95f04-d6a3-4070-9291-f1d91450413a"
      },
      "source": [
        "add(1, 2, multiplier=2)"
      ],
      "execution_count": null,
      "outputs": [
        {
          "output_type": "execute_result",
          "data": {
            "text/plain": [
              "6"
            ]
          },
          "metadata": {
            "tags": []
          },
          "execution_count": 2
        }
      ]
    },
    {
      "cell_type": "code",
      "metadata": {
        "id": "dMrhQzh8g0Gw",
        "colab_type": "code",
        "colab": {}
      },
      "source": [
        "output = add(1, 2, multiplier=-1)"
      ],
      "execution_count": null,
      "outputs": []
    },
    {
      "cell_type": "code",
      "metadata": {
        "id": "U4vs87EQg0G1",
        "colab_type": "code",
        "colab": {},
        "outputId": "fad471a2-2025-482c-d965-a0af2e023d78"
      },
      "source": [
        "print(outputp)"
      ],
      "execution_count": null,
      "outputs": [
        {
          "output_type": "error",
          "ename": "NameError",
          "evalue": "name 'outputp' is not defined",
          "traceback": [
            "\u001b[0;31m---------------------------------------------------------------------------\u001b[0m",
            "\u001b[0;31mNameError\u001b[0m                                 Traceback (most recent call last)",
            "\u001b[0;32m<ipython-input-8-3dcffc243f09>\u001b[0m in \u001b[0;36m<module>\u001b[0;34m()\u001b[0m\n\u001b[0;32m----> 1\u001b[0;31m \u001b[0mprint\u001b[0m\u001b[0;34m(\u001b[0m\u001b[0moutputp\u001b[0m\u001b[0;34m)\u001b[0m\u001b[0;34m\u001b[0m\u001b[0;34m\u001b[0m\u001b[0m\n\u001b[0m",
            "\u001b[0;31mNameError\u001b[0m: name 'outputp' is not defined"
          ]
        }
      ]
    },
    {
      "cell_type": "code",
      "metadata": {
        "id": "Oxids6EYg0G4",
        "colab_type": "code",
        "colab": {},
        "outputId": "086f128a-656f-4e18-a831-85833470f3c5"
      },
      "source": [
        "def celc2fahr(deg_C):\n",
        "    deg_F = 9 / 5 * deg_C + 32\n",
        "    \n",
        "    if deg_F >= 100:\n",
        "        print(\"It's hot!\")\n",
        "    elif deg_F > 50 and deg_F < 100:\n",
        "        if deg_F % 2 == 0:\n",
        "            print(\"The temperature is even!\")\n",
        "        else:\n",
        "            print(\"The temperature is not even\")\n",
        "        print(\"It's OK.\")\n",
        "    else:\n",
        "        print(\"It's getting chilly here.\")\n",
        "\n",
        "    return deg_F\n",
        "\n",
        "celc2fahr(20.5)"
      ],
      "execution_count": null,
      "outputs": [
        {
          "output_type": "stream",
          "text": [
            "The temperature is not even\n",
            "It's OK.\n"
          ],
          "name": "stdout"
        },
        {
          "output_type": "execute_result",
          "data": {
            "text/plain": [
              "68.9"
            ]
          },
          "metadata": {
            "tags": []
          },
          "execution_count": 19
        }
      ]
    },
    {
      "cell_type": "code",
      "metadata": {
        "id": "gvPqwXyxg0G-",
        "colab_type": "code",
        "colab": {}
      },
      "source": [
        "#refactored code - 2 functions instead of 1 \n",
        "\n",
        "def celc2fahr(deg_C):\n",
        "    deg_F = 9 / 5 * deg_C + 32\n",
        "    \n",
        "    return deg_F\n",
        "\n",
        "\n",
        "def print_message(deg_F):\n",
        "    if deg_F >= 100:\n",
        "        print(\"It's hot!\")\n",
        "    elif deg_F > 50 and deg_F < 100:\n",
        "        if deg_F % 2 == 0:\n",
        "            print(\"The temperature is even!\")\n",
        "        else:\n",
        "            print(\"The temperature is not even\")\n",
        "            print(\"It's OK.\")\n",
        "    else:\n",
        "        print(\"It's getting chilly here.\")"
      ],
      "execution_count": null,
      "outputs": []
    },
    {
      "cell_type": "code",
      "metadata": {
        "id": "qoex5bYKg0HC",
        "colab_type": "code",
        "colab": {},
        "outputId": "19336dd7-27c7-4316-ce14-f98c09f77a19"
      },
      "source": [
        "deg_C = 40\n",
        "deg_F = celc2fahr(deg_C)\n",
        "print_message(deg_F)"
      ],
      "execution_count": null,
      "outputs": [
        {
          "output_type": "stream",
          "text": [
            "It's hot!\n"
          ],
          "name": "stdout"
        }
      ]
    },
    {
      "cell_type": "code",
      "metadata": {
        "id": "a08i_KnUg0HH",
        "colab_type": "code",
        "colab": {}
      },
      "source": [
        ""
      ],
      "execution_count": null,
      "outputs": []
    }
  ]
}