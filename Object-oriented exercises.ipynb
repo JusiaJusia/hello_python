{
 "cells": [
  {
   "cell_type": "code",
   "execution_count": 1,
   "metadata": {
    "init_cell": true
   },
   "outputs": [],
   "source": [
    "%logstop\n",
    "%logstart -rtq ~/.logs/vc.py append\n",
    "%matplotlib inline\n",
    "import matplotlib\n",
    "import seaborn as sns\n",
    "sns.set()\n",
    "matplotlib.rcParams['figure.dpi'] = 144"
   ]
  },
  {
   "cell_type": "markdown",
   "metadata": {},
   "source": [
    "## Exercise : Distance\n",
    "\n",
    "Another quantity we might want to compute is the distance between two points.  This is generally given for points $P_1=(x_1,y_1)$ and $P_2=(x_2,y_2)$ as \n",
    "$$D = |P_2 - P_1| = \\sqrt{(x_1-x_2)^2 + (y_1-y_2)^2}.$$\n",
    "\n",
    "Implement a method called `distance` which finds the distance from a point to another point. \n",
    "\n",
    "Once this is done, execute the `grader.score` cell for this question (do not edit that cell; you only need to modify the `Point` class.)\n",
    "\n",
    "### Hint\n",
    "* *You can use the `sqrt` function from the math package*."
   ]
  },
  {
   "cell_type": "code",
   "execution_count": null,
   "metadata": {},
   "outputs": [],
   "source": [
    "class Point(object):\n",
    "\n",
    "    def __init__(self, x, y):\n",
    "        self.x = x\n",
    "        self.y = y\n",
    "            \n",
    "    def __repr__(self):\n",
    "        return \"Point({a}, {b})\".format(a=self.x, b=self.y)\n",
    "    \n",
    "    def __add__(self, no):\n",
    "        return Point(self.x +no.x, self.y + no.y)\n",
    "    \n",
    "    def __sub__ (self, no):\n",
    "        return Point(self.x -no.x, self.y - no.y)\n",
    "    \n",
    "    def __mul__(self, no):\n",
    "        if isinstance(no, int):\n",
    "            return Point(self.x*no, self.y*no)\n",
    "        elif isinstance(no, Point):\n",
    "            return self.x *no.x + self.y*no.y\n",
    "        else:\n",
    "            raise TypeError('Expected number to be int or Point. Got %s' % type(number))\n",
    "        \n",
    "    def distance(self, no):\n",
    "        import math \n",
    "        return math.sqrt((self.x - no.x)**2 +(self.y - no.y)**2)\n",
    "    ## **0.5 = math.sqrt !!! :)"
   ]
  },
  {
   "cell_type": "markdown",
   "metadata": {},
   "source": [
    "## Exercise: Algorithm\n",
    "\n",
    "Now we will use these points to solve a real world problem!  We can use our Point objects to represent measurements of two different quantities (e.g. a company's stock price and volume).  One thing we might want to do with a data set is to separate the points into groups of similar points.  Here we will implement an iterative algorithm to do this which will be a specific case of the very general $k$-means clustering algorithm.  The algorithm will require us to keep track of two clusters, each of which have a list of points and a center (which is another point, not necessarily one of the points we are clustering).  After making an initial guess at the center of the two clusters, $C_1$ and $C_2$, the steps proceed as follows\n",
    "\n",
    "1. Assign each point to $C_1$ or $C_2$ based on whether the point is closer to the center of $C_1$ or $C_2$.\n",
    "2. Recalculate the center of $C_1$ and $C_2$ based on the contained points. \n",
    "\n",
    "See [reference](https://en.wikipedia.org/wiki/K-means_clustering#Standard_algorithm) for more information.\n",
    "\n",
    "This algorithm will terminate in general when the assignments no longer change.  For this question, we would like you to initialize one cluster at `(1, 0)` and the other at `(-1, 0)`.  \n",
    "\n",
    "The returned values should be the two centers of the clusters ordered by greatest `x` value.  Please return these as a list of numeric tuples $[(x_1, y_1), (x_2, y_2)]$\n",
    "\n",
    "In order to accomplish this we will create a class called cluster which has two methods besides `__init__` which you will need to write.  The first method `update` will update the center of the Cluster given the points contained in the attribute `points`.  Remember, you after updating the center of the cluster, you will want to reassign the points and thus remove previous assignments.  The other method `add_point` will add a point to the `points` attribute.\n",
    "\n",
    "Once this is done, execute the `grader.score` cell for this question (do not edit that cell; you only need to modify the `Cluster` class and `compute_result` function.)"
   ]
  },
  {
   "cell_type": "code",
   "execution_count": null,
   "metadata": {},
   "outputs": [],
   "source": [
    "class Cluster(object):\n",
    "    \n",
    "    def __init__(self, x, y):\n",
    "        self.center = Point(x, y)\n",
    "        self.points = []\n",
    "    \n",
    "    def update(self):\n",
    "        \"\"\"\n",
    "        recalculate center upon the points assigned to the cluster \n",
    "        \n",
    "        new x: is the mean of all x \n",
    "        new y: is the mean of all y \n",
    "        \n",
    "        \"\"\"\n",
    "        \n",
    "        x_c = sum([point.x for point in self.points]) / len(self.points)\n",
    "        y_c = sum([point.y for point in self.points]) / len(self.points)\n",
    "        \n",
    "        # and update the senter of attribute\n",
    "        self.center = Point(x_c, y_c)\n",
    "        self.points = []\n",
    "    \n",
    "    def add_point(self, point):\n",
    "        self.points.append(point)"
   ]
  },
  {
   "cell_type": "code",
   "execution_count": null,
   "metadata": {},
   "outputs": [],
   "source": [
    "def compute_result(points):\n",
    "    points = [Point(*point) for point in points] # creates a list of points objects\n",
    "    a = Cluster(1,0)\n",
    "    b = Cluster(-1,0)\n",
    "    a_old = []\n",
    "    \n",
    "    for _ in range(10000): # max iterations\n",
    "        for point in points:\n",
    "            if point.distance(a.center) < point.distance(b.center):\n",
    "                # add the right point\n",
    "                a.add_point(point)\n",
    "            else:\n",
    "                # add the right point\n",
    "                b.add_point(point)\n",
    "                \n",
    "        if a_old == a.points:\n",
    "            break #if the same = break the loop \n",
    "        a_old = a.points\n",
    "        \n",
    "        # update the center of cluster\n",
    "        a.update()\n",
    "        b.update()\n",
    "    #return [(x, y)] * 2\n",
    "    #creates a list of 2 tuples \n",
    "    result = [(cluster.center.x, cluster.center.y) for cluster in (a,b)]\n",
    "    sorted(result, key = lambda tup: tup[0], reverse = True)"
   ]
  }
 ],
 "metadata": {
  "kernelspec": {
   "display_name": "Python 3",
   "language": "python",
   "name": "python3"
  },
  "language_info": {
   "codemirror_mode": {
    "name": "ipython",
    "version": 3
   },
   "file_extension": ".py",
   "mimetype": "text/x-python",
   "name": "python",
   "nbconvert_exporter": "python",
   "pygments_lexer": "ipython3",
   "version": "3.7.3"
  },
  "nbclean": true
 },
 "nbformat": 4,
 "nbformat_minor": 1
}
